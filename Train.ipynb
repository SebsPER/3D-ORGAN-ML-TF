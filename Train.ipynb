{
  "nbformat": 4,
  "nbformat_minor": 0,
  "metadata": {
    "colab": {
      "provenance": []
    },
    "kernelspec": {
      "name": "python3",
      "display_name": "Python 3"
    },
    "language_info": {
      "name": "python"
    },
    "accelerator": "GPU",
    "gpuClass": "standard"
  },
  "cells": [
    {
      "cell_type": "code",
      "execution_count": null,
      "metadata": {
        "id": "tllngWWDUxPk"
      },
      "outputs": [],
      "source": [
        "!unzip MLTF_train_repo.zip"
      ]
    },
    {
      "cell_type": "code",
      "source": [
        "import click, os\n",
        "from datetime import datetime\n",
        "from google.colab import drive"
      ],
      "metadata": {
        "id": "VHmtbFVZWohF"
      },
      "execution_count": 1,
      "outputs": []
    },
    {
      "cell_type": "code",
      "source": [
        "drive.mount('/content/gdrive')"
      ],
      "metadata": {
        "colab": {
          "base_uri": "https://localhost:8080/"
        },
        "id": "kLEunBOCWZFO",
        "outputId": "853cff6c-1290-42c7-9535-92cc2bab084f"
      },
      "execution_count": 2,
      "outputs": [
        {
          "output_type": "stream",
          "name": "stdout",
          "text": [
            "Mounted at /content/gdrive\n"
          ]
        }
      ]
    },
    {
      "cell_type": "code",
      "source": [
        "WORKING_DIRECTORY = '/content/gdrive/MyDrive/ML'\n",
        "\n",
        "os.chdir(WORKING_DIRECTORY)"
      ],
      "metadata": {
        "id": "QBchiJXuWa82"
      },
      "execution_count": 10,
      "outputs": []
    },
    {
      "cell_type": "markdown",
      "source": [
        "# Basado en main.py"
      ],
      "metadata": {
        "id": "l-B2TOQMcqcL"
      }
    },
    {
      "cell_type": "code",
      "source": [
        "from reconstruction.model import LoadModel\n",
        "import numpy as np"
      ],
      "metadata": {
        "id": "dVBZgyk7ezMb"
      },
      "execution_count": 16,
      "outputs": []
    },
    {
      "cell_type": "code",
      "source": [
        "np_load_old = np.load\n",
        "# modify the default parameters of np.load\n",
        "np.load = lambda *a,**k: np_load_old(*a, allow_pickle=True, **k)"
      ],
      "metadata": {
        "id": "LPATNHR_hfqB"
      },
      "execution_count": 17,
      "outputs": []
    },
    {
      "cell_type": "code",
      "source": [
        "overwrite= True\n",
        "force = True\n",
        "if overwrite and not force:\n",
        "    click.confirm('Overwrite=True, Do you want to continue?', abort=True)\n",
        "    os.environ['TF_CPP_MIN_LOG_LEVEL']='2'\n",
        "\n",
        "    out_log = os.path.join(\"data/new\", 'exec.log')\n",
        "    get_log = lambda x: datetime.now().strftime('%Y-%m-%d %H:%M:%S - ') + x\n",
        "    log = get_log('BEGIN TRAINING\\n')\n",
        "    print('-'*40)\n",
        "    \n",
        "    np_load_old = np.load\n",
        "\n",
        "    # modify the default parameters of np.load\n",
        "    np.load = lambda *a,**k: np_load_old(*a, allow_pickle=True, **k)\n",
        "\n",
        "model = LoadModel(\"modelnet10\", \"data/new\", 64,\n",
        "                    num_workers=-1,\n",
        "                    training_ratio=5,\n",
        "                    gradient_penalty=10,\n",
        "                    loss='l1',\n",
        "                    loss_multiply=100,\n",
        "                    overwrite=overwrite,\n",
        "                    config_file='config.txt',\n",
        "                    opt='voxels-usegan')\n",
        "\n",
        "model.train(epochs=10, test_each=5,\n",
        "                    extend_training=True, max_extend=10)"
      ],
      "metadata": {
        "colab": {
          "base_uri": "https://localhost:8080/"
        },
        "id": "3hxPIs4XctWU",
        "outputId": "733d90be-2961-48d9-a18f-0f66ac5695ad"
      },
      "execution_count": 18,
      "outputs": [
        {
          "output_type": "stream",
          "name": "stdout",
          "text": [
            "Cleaning files...\n",
            "Loading data...\n",
            "ModelNet10/voxels.npy\n",
            "Loading models...\n"
          ]
        },
        {
          "output_type": "stream",
          "name": "stderr",
          "text": [
            "WARNING:tensorflow:From /usr/local/lib/python3.7/dist-packages/keras/layers/normalization/batch_normalization.py:514: _colocate_with (from tensorflow.python.framework.ops) is deprecated and will be removed in a future version.\n",
            "Instructions for updating:\n",
            "Colocations handled automatically by placer.\n"
          ]
        },
        {
          "output_type": "stream",
          "name": "stdout",
          "text": [
            "Loading training vars...\n",
            "ModelNet10/voxels.npy\n",
            "ModelNet10/voxels.npy\n",
            "\n",
            "Doing 10 epochs [voxels-usegan]:\n"
          ]
        },
        {
          "output_type": "stream",
          "name": "stderr",
          "text": [
            "WARNING:tensorflow:Discrepancy between trainable weights and collected trainable weights, did you set `model.trainable` without calling `model.compile` after ?\n"
          ]
        },
        {
          "output_type": "stream",
          "name": "stdout",
          "text": []
        },
        {
          "output_type": "stream",
          "name": "stderr",
          "text": [
            "/usr/local/lib/python3.7/dist-packages/keras/engine/training_v1.py:2067: UserWarning: `Model.state_updates` will be removed in a future version. This property should not be used in TensorFlow 2.0, as `updates` are applied automatically.\n",
            "  updates=self.state_updates,\n"
          ]
        },
        {
          "output_type": "stream",
          "name": "stdout",
          "text": [
            "Epoch: 10/10 | 01/12                   \n",
            "\n",
            "Done [0:12:16]\n",
            "Results on 'data/new'\n"
          ]
        }
      ]
    }
  ]
}