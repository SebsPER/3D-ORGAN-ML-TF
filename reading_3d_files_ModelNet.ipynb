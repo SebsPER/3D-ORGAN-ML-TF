{
 "cells": [
  {
   "cell_type": "code",
   "execution_count": null,
   "metadata": {},
   "outputs": [],
   "source": [
    "from plotly import __version__\n",
    "from plotly.offline import download_plotlyjs, init_notebook_mode, plot, iplot\n",
    "\n",
    "print(__version__) # requires version >= 1.9.0\n",
    "init_notebook_mode(connected=True)\n",
    "iplot([{\"x\": [1, 2, 3], \"y\": [3, 1, 6]}])"
   ]
  },
  {
   "cell_type": "code",
   "execution_count": null,
   "metadata": {
    "scrolled": true
   },
   "outputs": [],
   "source": [
    "!pip install chart-studio"
   ]
  },
  {
   "cell_type": "code",
   "execution_count": 1,
   "metadata": {},
   "outputs": [],
   "source": [
    "import os\n",
    "import math\n",
    "import random\n",
    "import numpy as np\n",
    "from time import time\n",
    "from pprint import pprint\n",
    "from collections import Counter\n",
    "from reconstruction.utils import binvox_rw\n",
    "#from reconstruction.utils.plot import plot_vol\n",
    "#import chart_studio.plotly as py"
   ]
  },
  {
   "cell_type": "markdown",
   "metadata": {},
   "source": [
    "# Check datasets"
   ]
  },
  {
   "cell_type": "code",
   "execution_count": 2,
   "metadata": {
    "scrolled": true
   },
   "outputs": [
    {
     "name": "stdout",
     "output_type": "stream",
     "text": [
      "Counter({'chair': 889,\n",
      "         'sofa': 680,\n",
      "         'airplane': 626,\n",
      "         'bookshelf': 572,\n",
      "         'bed': 515,\n",
      "         'vase': 475,\n",
      "         'monitor': 465,\n",
      "         'table': 392,\n",
      "         'toilet': 344,\n",
      "         'bottle': 335,\n",
      "         'mantel': 284,\n",
      "         'tv_stand': 267,\n",
      "         'plant': 240,\n",
      "         'piano': 231,\n",
      "         'desk': 200,\n",
      "         'dresser': 200,\n",
      "         'night_stand': 200,\n",
      "         'car': 197,\n",
      "         'bench': 173,\n",
      "         'glass_box': 171,\n",
      "         'cone': 167,\n",
      "         'tent': 163,\n",
      "         'guitar': 155,\n",
      "         'flower_pot': 149,\n",
      "         'laptop': 149,\n",
      "         'keyboard': 145,\n",
      "         'curtain': 138,\n",
      "         'sink': 128,\n",
      "         'lamp': 124,\n",
      "         'stairs': 124,\n",
      "         'range_hood': 115,\n",
      "         'door': 109,\n",
      "         'bathtub': 106,\n",
      "         'radio': 104,\n",
      "         'xbox': 103,\n",
      "         'stool': 90,\n",
      "         'person': 88,\n",
      "         'wardrobe': 87,\n",
      "         'cup': 79,\n",
      "         'bowl': 64})\n"
     ]
    }
   ],
   "source": [
    "path = 'C:/Users/Sebastian/Documents/ML-TF/ModelNet40/' #C:\\Users\\Sebastian\\Documents\\ML-TF\n",
    "labels = [d for d in os.listdir(path) if os.path.isdir(os.path.join(path, d))]\n",
    "files = [os.path.join(path,l,'train/',ll) for l in labels\n",
    "         for ll in os.listdir(os.path.join(path, l, 'train/'))\n",
    "         if ll[-4:] == '.off']\n",
    "\n",
    "files = [f.replace(\"\\\\\",\"/\") for f in files]\n",
    "pprint(Counter([f.split('ModelNet40/')[1].split('/')[0] for f in files]))"
   ]
  },
  {
   "cell_type": "code",
   "execution_count": null,
   "metadata": {},
   "outputs": [],
   "source": [
    "path = 'C:/Users/Sebastian/Documents/ML-TF/ModelNet10/' #C:/Users/Sebastian/Documents/ML-TF/ModelNet10/\n",
    "labels = [d for d in os.listdir(path) if os.path.isdir(os.path.join(path, d))]\n",
    "print(labels)\n",
    "files = [os.path.join(path,l,'train/',ll) for l in labels\n",
    "         for ll in os.listdir(os.path.join(path, l, 'train/'))\n",
    "         if ll[-4:] == '.off']\n",
    "files = [f.replace(\"\\\\\",\"/\") for f in files]\n",
    "pprint(Counter([f.split('ModelNet10/')[1].split('/')[0] for f in files]))"
   ]
  },
  {
   "cell_type": "markdown",
   "metadata": {},
   "source": [
    "# read / convert / plot"
   ]
  },
  {
   "cell_type": "code",
   "execution_count": 3,
   "metadata": {},
   "outputs": [
    {
     "name": "stdout",
     "output_type": "stream",
     "text": [
      "\n",
      "Plotting: C:/Users/Sebastian/Documents/ML-TF/ModelNet40/piano/train/piano_0216.off\n",
      "(1, array([[[False, False, False, ..., False, False, False],\n",
      "        [False, False, False, ..., False, False, False],\n",
      "        [False, False, False, ..., False, False, False],\n",
      "        ...,\n",
      "        [False, False, False, ..., False, False, False],\n",
      "        [False, False, False, ..., False, False, False],\n",
      "        [False, False, False, ..., False, False, False]],\n",
      "\n",
      "       [[False, False, False, ..., False, False, False],\n",
      "        [False, False, False, ..., False, False, False],\n",
      "        [False, False, False, ..., False, False, False],\n",
      "        ...,\n",
      "        [False, False, False, ..., False, False, False],\n",
      "        [False, False, False, ..., False, False, False],\n",
      "        [False, False, False, ..., False, False, False]],\n",
      "\n",
      "       [[False, False, False, ..., False, False, False],\n",
      "        [False, False, False, ..., False, False, False],\n",
      "        [False, False, False, ..., False, False, False],\n",
      "        ...,\n",
      "        [False, False, False, ..., False, False, False],\n",
      "        [False, False, False, ..., False, False, False],\n",
      "        [False, False, False, ..., False, False, False]],\n",
      "\n",
      "       ...,\n",
      "\n",
      "       [[False, False, False, ..., False, False, False],\n",
      "        [False, False, False, ..., False, False, False],\n",
      "        [False, False, False, ..., False, False, False],\n",
      "        ...,\n",
      "        [False, False, False, ..., False, False, False],\n",
      "        [False, False, False, ..., False, False, False],\n",
      "        [False, False, False, ..., False, False, False]],\n",
      "\n",
      "       [[False, False, False, ..., False, False, False],\n",
      "        [False, False, False, ..., False, False, False],\n",
      "        [False, False, False, ..., False, False, False],\n",
      "        ...,\n",
      "        [False, False, False, ..., False, False, False],\n",
      "        [False, False, False, ..., False, False, False],\n",
      "        [False, False, False, ..., False, False, False]],\n",
      "\n",
      "       [[False, False, False, ..., False, False, False],\n",
      "        [False, False, False, ..., False, False, False],\n",
      "        [False, False, False, ..., False, False, False],\n",
      "        ...,\n",
      "        [False, False, False, ..., False, False, False],\n",
      "        [False, False, False, ..., False, False, False],\n",
      "        [False, False, False, ..., False, False, False]]]))\n"
     ]
    }
   ],
   "source": [
    "# generate file\n",
    "file = random.choice(files)\n",
    "\n",
    "def check_fix_file(file):\n",
    "    with open(file) as f:\n",
    "        l1 = f.readline()\n",
    "        l2 = f.readlines()\n",
    "\n",
    "    if l1 != 'OFF\\n' and l1[:3] == 'OFF':\n",
    "        out = 'OFF\\n'\n",
    "        out += l1.split('OFF')[1]\n",
    "        out += ''.join(l2)\n",
    "        with open(file, 'w') as f:\n",
    "            f.write(out)\n",
    "\n",
    "def voxels_from_file(file, voxsize):\n",
    "    cmd = f'C:/Users/Sebastian/Documents/ML-TF/tools/binvox/binvox.exe -d {voxsize} -cb -e {file}' #tools/bonvox/bonvox.exe\n",
    "    check_fix_file(file)\n",
    "    out_file = file.split('.')[0] + '.binvox'\n",
    "            \n",
    "    if os.path.exists(out_file):\n",
    "        os.remove(out_file)\n",
    "    #print(cmd)\n",
    "    t = os.system(cmd)\n",
    "    #print(voxsize, file)\n",
    "    #print(out_file, t)\n",
    "    \n",
    "    if t == 0:\n",
    "        with open(out_file, 'rb') as f:\n",
    "            d = binvox_rw.read_as_3d_array(f).data\n",
    "        \n",
    "        os.remove(out_file)\n",
    "        return 1, d\n",
    "    else:\n",
    "        return 0, None\n",
    "\n",
    "voxels = voxels_from_file(file, 32)\n",
    "print('\\nPlotting:', file)\n",
    "print(voxels)\n",
    "#plot_vol(voxels[1])"
   ]
  },
  {
   "cell_type": "markdown",
   "metadata": {
    "collapsed": true
   },
   "source": [
    "# Convert all ModelNet"
   ]
  },
  {
   "cell_type": "code",
   "execution_count": 4,
   "metadata": {},
   "outputs": [],
   "source": [
    "import multiprocessing\n",
    "from concurrent.futures import ThreadPoolExecutor\n",
    "\n",
    "def multithreading(func, args, workers):\n",
    "    with ThreadPoolExecutor(max_workers=workers) as executor:\n",
    "        res = executor.map(func, args)\n",
    "    return list(res)\n",
    "\n",
    "get_label = lambda x: x.split('ModelNet')[1][3:].split('/')[0]\n",
    "\n",
    "def get_voxels(files, voxsize):\n",
    "    data = np.ndarray((0, *[voxsize]*3), dtype=bool)\n",
    "    labels = []\n",
    "    errors = []\n",
    "    \n",
    "    for i, file in enumerate(files):\n",
    "        res = voxels_from_file(file, voxsize)\n",
    "        if res[0] == 1:\n",
    "            labels.append(get_label(file))\n",
    "            data = np.vstack([data, res[1].reshape((1, *res[1].shape))])\n",
    "        else:\n",
    "            errors.append(file)\n",
    "\n",
    "    return labels, data, errors\n",
    "\n",
    "get_voxels_parallel = lambda x: get_voxels(*x)\n",
    "\n",
    "def convert_all(path, voxsize):\n",
    "    out_file = os.path.join(path, 'voxels.npy')\n",
    "    labels = [d for d in os.listdir(path) if os.path.isdir(os.path.join(path, d))]\n",
    "    train_files = [os.path.join(path,l,'train',ll) for l in labels\n",
    "                   for ll in os.listdir(os.path.join(path, l, 'train'))\n",
    "                   if ll[-4:] == '.off']\n",
    "    test_files = [os.path.join(path,l,'test',ll) for l in labels\n",
    "                   for ll in os.listdir(os.path.join(path, l, 'test'))\n",
    "                   if ll[-4:] == '.off']\n",
    "\n",
    "    print(f'train: {len(train_files)}, test: {len(test_files)}')\n",
    "    \n",
    "    n_cpu = multiprocessing.cpu_count()\n",
    "    output = {}\n",
    "    \n",
    "    for data_files, data_name in zip([train_files, test_files], ['train', 'test']):\n",
    "        t0 = time()\n",
    "        print(f'Launching {n_cpu} threads for {data_name} set...', end='')\n",
    "        thread_size = math.ceil(len(data_files) / n_cpu)\n",
    "        args = [(data_files[i*thread_size:(i+1)*thread_size], voxsize) for i in range(n_cpu)]\n",
    "        res = multithreading(get_voxels_parallel, args, n_cpu)\n",
    "        labels = []\n",
    "        data = np.ndarray((0, *[voxsize]*3), dtype=bool)\n",
    "        errors = []\n",
    "\n",
    "        for l, d, e in res:\n",
    "            labels += l\n",
    "            data = np.vstack([data, d])\n",
    "            errors += e\n",
    "            \n",
    "        output[data_name] = {'labels': labels, 'data': data, 'errors': errors}\n",
    "        \n",
    "        print('(%.2fs)' % (time() - t0))\n",
    "    \n",
    "    np.save(out_file, output)    \n",
    "    print('\\nSaved on: %s (%.2fM)' % (out_file, os.path.getsize(out_file) / 1024**2))"
   ]
  },
  {
   "cell_type": "code",
   "execution_count": 5,
   "metadata": {
    "scrolled": true
   },
   "outputs": [
    {
     "name": "stdout",
     "output_type": "stream",
     "text": [
      "train: 9843, test: 2468\n",
      "Launching 8 threads for train set...(795.65s)\n",
      "Launching 8 threads for test set...(146.13s)\n",
      "\n",
      "Saved on: C:/Users/Sebastian/Documents/ML-TF/ModelNet40/voxels.npy (385.16M)\n"
     ]
    }
   ],
   "source": [
    "convert_all('C:/Users/Sebastian/Documents/ML-TF/ModelNet40/', voxsize=32) # C:/Users/Proyecto/Documents/ML/repo/ModelNet40/"
   ]
  },
  {
   "cell_type": "code",
   "execution_count": 6,
   "metadata": {},
   "outputs": [
    {
     "name": "stdout",
     "output_type": "stream",
     "text": [
      "train: 3991, test: 908\n",
      "Launching 8 threads for train set...(177.17s)\n",
      "Launching 8 threads for test set...(34.11s)\n",
      "\n",
      "Saved on: C:/Users/Sebastian/Documents/ML-TF/ModelNet10/voxels.npy (153.26M)\n"
     ]
    }
   ],
   "source": [
    "convert_all('C:/Users/Sebastian/Documents/ML-TF/ModelNet10/', voxsize=32)"
   ]
  },
  {
   "cell_type": "code",
   "execution_count": 8,
   "metadata": {},
   "outputs": [],
   "source": [
    "np_load_old = np.load\n",
    "\n",
    "# modify the default parameters of np.load\n",
    "np.load = lambda *a,**k: np_load_old(*a, allow_pickle=True, **k)"
   ]
  },
  {
   "cell_type": "code",
   "execution_count": 12,
   "metadata": {},
   "outputs": [
    {
     "name": "stdout",
     "output_type": "stream",
     "text": [
      "night_stand\\train\\night_stand_0136.off\n"
     ]
    }
   ],
   "source": [
    "modelnet10 = np.load('C:/Users/Sebastian/Documents/ML-TF/ModelNet10/voxels.npy').item()\n",
    "\n",
    "#print(len(modelnet10['train']['labels']))\n",
    "idx = random.choice(range(len(modelnet10['train']['labels'])))\n",
    "#print(idx)\n",
    "print(modelnet10['train']['labels'][idx])\n",
    "#plot_vol(modelnet10['train']['data'][idx])"
   ]
  },
  {
   "cell_type": "code",
   "execution_count": 11,
   "metadata": {},
   "outputs": [
    {
     "name": "stdout",
     "output_type": "stream",
     "text": [
      "table\\train\\table_0008.off\n"
     ]
    }
   ],
   "source": [
    "modelnet40 = np.load('C:/Users/Sebastian/Documents/ML-TF/ModelNet40/voxels.npy').item()\n",
    "\n",
    "idx = random.choice(range(len(modelnet40['train']['labels'])))\n",
    "print(modelnet40['train']['labels'][idx])\n",
    "#plot_vol(modelnet40['train']['data'][idx])"
   ]
  },
  {
   "cell_type": "code",
   "execution_count": null,
   "metadata": {},
   "outputs": [],
   "source": []
  }
 ],
 "metadata": {
  "kernelspec": {
   "display_name": "Python 3 (ipykernel)",
   "language": "python",
   "name": "python3"
  },
  "language_info": {
   "codemirror_mode": {
    "name": "ipython",
    "version": 3
   },
   "file_extension": ".py",
   "mimetype": "text/x-python",
   "name": "python",
   "nbconvert_exporter": "python",
   "pygments_lexer": "ipython3",
   "version": "3.9.13"
  }
 },
 "nbformat": 4,
 "nbformat_minor": 2
}
